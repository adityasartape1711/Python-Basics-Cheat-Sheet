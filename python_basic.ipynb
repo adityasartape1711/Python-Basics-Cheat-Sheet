{
 "cells": [
  {
   "cell_type": "markdown",
   "id": "5d7ad448",
   "metadata": {},
   "source": [
    "# list"
   ]
  },
  {
   "cell_type": "code",
   "execution_count": 2,
   "id": "d10bf95a",
   "metadata": {},
   "outputs": [],
   "source": [
    "# to print index"
   ]
  },
  {
   "cell_type": "code",
   "execution_count": 3,
   "id": "3685addb",
   "metadata": {},
   "outputs": [
    {
     "name": "stdout",
     "output_type": "stream",
     "text": [
      "2\n"
     ]
    }
   ],
   "source": [
    "l = [9,8,7,6]\n",
    "print(l.index(7))"
   ]
  },
  {
   "cell_type": "code",
   "execution_count": 4,
   "id": "27392dc4",
   "metadata": {},
   "outputs": [],
   "source": [
    "# to add number in list"
   ]
  },
  {
   "cell_type": "code",
   "execution_count": 5,
   "id": "65f2bf76",
   "metadata": {},
   "outputs": [
    {
     "data": {
      "text/plain": [
       "[9, 8, 7, 6, 1]"
      ]
     },
     "execution_count": 5,
     "metadata": {},
     "output_type": "execute_result"
    }
   ],
   "source": [
    "l = [9,8,7,6]\n",
    "l.append(1)\n",
    "l"
   ]
  },
  {
   "cell_type": "code",
   "execution_count": 8,
   "id": "72ab92d8",
   "metadata": {},
   "outputs": [],
   "source": [
    "# to add (insert) number according to there index"
   ]
  },
  {
   "cell_type": "code",
   "execution_count": 7,
   "id": "0a0770a6",
   "metadata": {},
   "outputs": [
    {
     "data": {
      "text/plain": [
       "[10, 9, 8, 7, 6]"
      ]
     },
     "execution_count": 7,
     "metadata": {},
     "output_type": "execute_result"
    }
   ],
   "source": [
    "l = [9,8,7,6]\n",
    "l.insert(0,10)\n",
    "l"
   ]
  },
  {
   "cell_type": "code",
   "execution_count": 9,
   "id": "ee37e147",
   "metadata": {},
   "outputs": [],
   "source": [
    "# removing number from list"
   ]
  },
  {
   "cell_type": "code",
   "execution_count": 12,
   "id": "51ede8e1",
   "metadata": {},
   "outputs": [
    {
     "data": {
      "text/plain": [
       "[9, 7, 6, 8]"
      ]
     },
     "execution_count": 12,
     "metadata": {},
     "output_type": "execute_result"
    }
   ],
   "source": [
    "l = [9,8,7,6,8]\n",
    "l.remove(8)\n",
    "l"
   ]
  },
  {
   "cell_type": "code",
   "execution_count": 13,
   "id": "b52dde00",
   "metadata": {},
   "outputs": [],
   "source": [
    "# to return copy of list"
   ]
  },
  {
   "cell_type": "code",
   "execution_count": 19,
   "id": "93fbb571",
   "metadata": {},
   "outputs": [
    {
     "data": {
      "text/plain": [
       "[1, 9, 8, 7, 6]"
      ]
     },
     "execution_count": 19,
     "metadata": {},
     "output_type": "execute_result"
    }
   ],
   "source": [
    "l = [1,9,8,7,6]\n",
    "l.copy()\n"
   ]
  },
  {
   "cell_type": "code",
   "execution_count": 20,
   "id": "861de231",
   "metadata": {},
   "outputs": [],
   "source": [
    "# to count element from list"
   ]
  },
  {
   "cell_type": "code",
   "execution_count": 21,
   "id": "ca672a2b",
   "metadata": {},
   "outputs": [
    {
     "data": {
      "text/plain": [
       "3"
      ]
     },
     "execution_count": 21,
     "metadata": {},
     "output_type": "execute_result"
    }
   ],
   "source": [
    "l = [1,2,3,4,5,62,1,3,52,1]\n",
    "l.count(1)"
   ]
  },
  {
   "cell_type": "code",
   "execution_count": 22,
   "id": "fefe06cb",
   "metadata": {},
   "outputs": [],
   "source": [
    "# to add list in list"
   ]
  },
  {
   "cell_type": "code",
   "execution_count": 23,
   "id": "43b98c6a",
   "metadata": {},
   "outputs": [
    {
     "data": {
      "text/plain": [
       "[1, 2, 3, 4, 5, 6, 7, 8]"
      ]
     },
     "execution_count": 23,
     "metadata": {},
     "output_type": "execute_result"
    }
   ],
   "source": [
    "l = [1,2,3,4]\n",
    "l1 = [5,6,7,8]\n",
    "l.extend(l1)\n",
    "l"
   ]
  },
  {
   "cell_type": "code",
   "execution_count": 25,
   "id": "e7b14161",
   "metadata": {},
   "outputs": [],
   "source": [
    "# to print last element"
   ]
  },
  {
   "cell_type": "code",
   "execution_count": 24,
   "id": "30528b8a",
   "metadata": {},
   "outputs": [
    {
     "data": {
      "text/plain": [
       "4"
      ]
     },
     "execution_count": 24,
     "metadata": {},
     "output_type": "execute_result"
    }
   ],
   "source": [
    "l = [1,2,3,4]\n",
    "l.pop()"
   ]
  },
  {
   "cell_type": "code",
   "execution_count": 26,
   "id": "6caa040b",
   "metadata": {},
   "outputs": [],
   "source": [
    "# to reverse list"
   ]
  },
  {
   "cell_type": "code",
   "execution_count": 27,
   "id": "22ecf3f0",
   "metadata": {},
   "outputs": [
    {
     "data": {
      "text/plain": [
       "[6, 5, 4, 3, 2, 1]"
      ]
     },
     "execution_count": 27,
     "metadata": {},
     "output_type": "execute_result"
    }
   ],
   "source": [
    "l = [1,2,3,4,5,6]\n",
    "l.reverse()\n",
    "l"
   ]
  },
  {
   "cell_type": "code",
   "execution_count": 28,
   "id": "2c01fa1f",
   "metadata": {},
   "outputs": [],
   "source": [
    "# to sorting list "
   ]
  },
  {
   "cell_type": "code",
   "execution_count": 29,
   "id": "7fb044f1",
   "metadata": {},
   "outputs": [
    {
     "data": {
      "text/plain": [
       "[2, 3, 4, 4, 53, 56, 77, 234, 652, 2553]"
      ]
     },
     "execution_count": 29,
     "metadata": {},
     "output_type": "execute_result"
    }
   ],
   "source": [
    "l = [4,53,2,4,652,56,234,77,2553,3]\n",
    "l.sort()\n",
    "l"
   ]
  },
  {
   "cell_type": "markdown",
   "id": "c7e04f7f",
   "metadata": {},
   "source": [
    "# slicing"
   ]
  },
  {
   "cell_type": "code",
   "execution_count": 39,
   "id": "7be6b15c",
   "metadata": {},
   "outputs": [],
   "source": [
    "# to print whole list"
   ]
  },
  {
   "cell_type": "code",
   "execution_count": 7,
   "id": "deea1fa6",
   "metadata": {},
   "outputs": [
    {
     "name": "stdout",
     "output_type": "stream",
     "text": [
      "[1, 2, 3, 4, 5, 6, 7, 8, 9]\n"
     ]
    }
   ],
   "source": [
    "l = [1,2,3,4,5,6,7,8,9,10]\n",
    "print(l[0:-1])\n"
   ]
  },
  {
   "cell_type": "code",
   "execution_count": 8,
   "id": "d9e3b34d",
   "metadata": {},
   "outputs": [],
   "source": [
    "# star to rest of array"
   ]
  },
  {
   "cell_type": "code",
   "execution_count": 9,
   "id": "7359638d",
   "metadata": {},
   "outputs": [
    {
     "name": "stdout",
     "output_type": "stream",
     "text": [
      "[5, 6, 7, 8, 9, 10]\n"
     ]
    }
   ],
   "source": [
    "l = [1,2,3,4,5,6,7,8,9,10]\n",
    "print(l[4:])"
   ]
  },
  {
   "cell_type": "code",
   "execution_count": 10,
   "id": "19c2b2be",
   "metadata": {},
   "outputs": [],
   "source": [
    "# begins to stop -1"
   ]
  },
  {
   "cell_type": "code",
   "execution_count": 13,
   "id": "2e0c5f41",
   "metadata": {},
   "outputs": [
    {
     "name": "stdout",
     "output_type": "stream",
     "text": [
      "[1, 2, 3, 4, 5, 6]\n"
     ]
    }
   ],
   "source": [
    "l = [1,2,3,4,5,6,7,8,9,10]\n",
    "print(l[:-4])"
   ]
  },
  {
   "cell_type": "code",
   "execution_count": 14,
   "id": "11503e61",
   "metadata": {},
   "outputs": [],
   "source": [
    "# to print whole array"
   ]
  },
  {
   "cell_type": "code",
   "execution_count": 15,
   "id": "a1fdc913",
   "metadata": {},
   "outputs": [
    {
     "name": "stdout",
     "output_type": "stream",
     "text": [
      "[1, 2, 3, 4, 5, 6, 7, 8, 9, 10]\n"
     ]
    }
   ],
   "source": [
    "l = [1,2,3,4,5,6,7,8,9,10]\n",
    "print(l[:])"
   ]
  },
  {
   "cell_type": "code",
   "execution_count": 16,
   "id": "dc15d27a",
   "metadata": {},
   "outputs": [],
   "source": [
    "# to print last item in array"
   ]
  },
  {
   "cell_type": "code",
   "execution_count": 17,
   "id": "6d76cb7a",
   "metadata": {},
   "outputs": [
    {
     "name": "stdout",
     "output_type": "stream",
     "text": [
      "10\n"
     ]
    }
   ],
   "source": [
    "l = [1,2,3,4,5,6,7,8,9,10]\n",
    "print(l[-1])"
   ]
  },
  {
   "cell_type": "code",
   "execution_count": 18,
   "id": "a7c36ad1",
   "metadata": {},
   "outputs": [],
   "source": [
    "# to print last two items in array"
   ]
  },
  {
   "cell_type": "code",
   "execution_count": 20,
   "id": "7b4932db",
   "metadata": {},
   "outputs": [
    {
     "name": "stdout",
     "output_type": "stream",
     "text": [
      "[9, 10]\n"
     ]
    }
   ],
   "source": [
    "l = [1,2,3,4,5,6,7,8,9,10]\n",
    "print(l[-2:])"
   ]
  },
  {
   "cell_type": "code",
   "execution_count": 21,
   "id": "3bcb7f42",
   "metadata": {},
   "outputs": [],
   "source": [
    "# to print everything expect last two"
   ]
  },
  {
   "cell_type": "code",
   "execution_count": 22,
   "id": "cf65fba0",
   "metadata": {},
   "outputs": [
    {
     "name": "stdout",
     "output_type": "stream",
     "text": [
      "[1, 2, 3, 4, 5, 6, 7, 8]\n"
     ]
    }
   ],
   "source": [
    "l = [1,2,3,4,5,6,7,8,9,10]\n",
    "print(l[:-2])"
   ]
  },
  {
   "cell_type": "code",
   "execution_count": 23,
   "id": "276267a9",
   "metadata": {},
   "outputs": [],
   "source": [
    "# to print all items in array reversed"
   ]
  },
  {
   "cell_type": "code",
   "execution_count": 24,
   "id": "bc6c6e6e",
   "metadata": {},
   "outputs": [
    {
     "name": "stdout",
     "output_type": "stream",
     "text": [
      "[10, 9, 8, 7, 6, 5, 4, 3, 2, 1]\n"
     ]
    }
   ],
   "source": [
    "l = [1,2,3,4,5,6,7,8,9,10]\n",
    "print(l[::-1])"
   ]
  },
  {
   "cell_type": "code",
   "execution_count": 25,
   "id": "096d99fa",
   "metadata": {},
   "outputs": [],
   "source": [
    "# to print first two items reversed"
   ]
  },
  {
   "cell_type": "code",
   "execution_count": 26,
   "id": "c71ea05e",
   "metadata": {},
   "outputs": [
    {
     "name": "stdout",
     "output_type": "stream",
     "text": [
      "[2, 1]\n"
     ]
    }
   ],
   "source": [
    "l = [1,2,3,4,5,6,7,8,9,10]\n",
    "print(l[1::-1])"
   ]
  },
  {
   "cell_type": "code",
   "execution_count": 27,
   "id": "c38745c3",
   "metadata": {},
   "outputs": [],
   "source": [
    "# to print last two items of reversed"
   ]
  },
  {
   "cell_type": "code",
   "execution_count": 30,
   "id": "4557d25b",
   "metadata": {},
   "outputs": [
    {
     "name": "stdout",
     "output_type": "stream",
     "text": [
      "[10, 9]\n"
     ]
    }
   ],
   "source": [
    "l = [1,2,3,4,5,6,7,8,9,10]\n",
    "print(l[:-3:-1])"
   ]
  },
  {
   "cell_type": "code",
   "execution_count": 31,
   "id": "6f471e47",
   "metadata": {},
   "outputs": [],
   "source": [
    "# everything expect last two items reversed"
   ]
  },
  {
   "cell_type": "code",
   "execution_count": 32,
   "id": "8f02eb2b",
   "metadata": {},
   "outputs": [
    {
     "name": "stdout",
     "output_type": "stream",
     "text": [
      "[8, 7, 6, 5, 4, 3, 2, 1]\n"
     ]
    }
   ],
   "source": [
    "l = [1,2,3,4,5,6,7,8,9,10]\n",
    "print(l[-3::-1])"
   ]
  },
  {
   "cell_type": "code",
   "execution_count": 33,
   "id": "671fbb22",
   "metadata": {},
   "outputs": [
    {
     "name": "stdout",
     "output_type": "stream",
     "text": [
      "[10, 9]\n"
     ]
    }
   ],
   "source": [
    "l = [1,2,3,4,5,6,7,8,9,10]\n",
    "print(l[:-3:-1])"
   ]
  },
  {
   "cell_type": "markdown",
   "id": "883d300b",
   "metadata": {},
   "source": [
    "# dict"
   ]
  },
  {
   "cell_type": "code",
   "execution_count": 42,
   "id": "63f50e0d",
   "metadata": {},
   "outputs": [],
   "source": [
    "# to print keys of dict"
   ]
  },
  {
   "cell_type": "code",
   "execution_count": 41,
   "id": "9d4fccd5",
   "metadata": {},
   "outputs": [
    {
     "data": {
      "text/plain": [
       "dict_keys(['Antara', 'Aditya'])"
      ]
     },
     "execution_count": 41,
     "metadata": {},
     "output_type": "execute_result"
    }
   ],
   "source": [
    "d = {\"Antara\":17,\"Aditya\":11}\n",
    "d.keys()"
   ]
  },
  {
   "cell_type": "code",
   "execution_count": 43,
   "id": "0ab3fe49",
   "metadata": {},
   "outputs": [],
   "source": [
    "# to print written list values of dict"
   ]
  },
  {
   "cell_type": "code",
   "execution_count": 44,
   "id": "1524697f",
   "metadata": {},
   "outputs": [
    {
     "data": {
      "text/plain": [
       "dict_values([17, 11])"
      ]
     },
     "execution_count": 44,
     "metadata": {},
     "output_type": "execute_result"
    }
   ],
   "source": [
    "d = {\"Antara\":17,\"Aditya\":11}\n",
    "d.values()"
   ]
  },
  {
   "cell_type": "code",
   "execution_count": 45,
   "id": "ee22816e",
   "metadata": {},
   "outputs": [],
   "source": [
    "# to print value for any corrosponding key"
   ]
  },
  {
   "cell_type": "code",
   "execution_count": 46,
   "id": "4f45fc5d",
   "metadata": {},
   "outputs": [
    {
     "data": {
      "text/plain": [
       "17"
      ]
     },
     "execution_count": 46,
     "metadata": {},
     "output_type": "execute_result"
    }
   ],
   "source": [
    "d = {\"Antara\":17,\"Aditya\":11}\n",
    "d.get(\"Antara\")"
   ]
  },
  {
   "cell_type": "code",
   "execution_count": 47,
   "id": "d858ae04",
   "metadata": {},
   "outputs": [],
   "source": [
    "# to print items in dict"
   ]
  },
  {
   "cell_type": "code",
   "execution_count": 48,
   "id": "9cf64c63",
   "metadata": {},
   "outputs": [
    {
     "data": {
      "text/plain": [
       "dict_items([('Antara', 17), ('Aditya', 11)])"
      ]
     },
     "execution_count": 48,
     "metadata": {},
     "output_type": "execute_result"
    }
   ],
   "source": [
    "d = {\"Antara\":17,\"Aditya\":11}\n",
    "d.items()"
   ]
  },
  {
   "cell_type": "code",
   "execution_count": 53,
   "id": "2854678c",
   "metadata": {},
   "outputs": [],
   "source": [
    "# to print pop value of key"
   ]
  },
  {
   "cell_type": "code",
   "execution_count": 52,
   "id": "cf6274d6",
   "metadata": {},
   "outputs": [
    {
     "data": {
      "text/plain": [
       "17"
      ]
     },
     "execution_count": 52,
     "metadata": {},
     "output_type": "execute_result"
    }
   ],
   "source": [
    "d = {\"Antara\":17,\"Aditya\":11}\n",
    "d.pop(\"Antara\")"
   ]
  },
  {
   "cell_type": "code",
   "execution_count": 54,
   "id": "73cdfd0b",
   "metadata": {},
   "outputs": [],
   "source": [
    "# to remove most recent item"
   ]
  },
  {
   "cell_type": "code",
   "execution_count": 55,
   "id": "16067344",
   "metadata": {},
   "outputs": [
    {
     "data": {
      "text/plain": [
       "('Aditya', 11)"
      ]
     },
     "execution_count": 55,
     "metadata": {},
     "output_type": "execute_result"
    }
   ],
   "source": [
    "d = {\"Antara\":17,\"Aditya\":11}\n",
    "d.popitem()"
   ]
  },
  {
   "cell_type": "code",
   "execution_count": 60,
   "id": "df2916e6",
   "metadata": {},
   "outputs": [],
   "source": [
    "# to add pair of dict if not present"
   ]
  },
  {
   "cell_type": "code",
   "execution_count": 63,
   "id": "dc27bb40",
   "metadata": {},
   "outputs": [
    {
     "data": {
      "text/plain": [
       "{'Antara': 17, 'Aditya': 11, 'together_forever': 'enternity_and_beyond'}"
      ]
     },
     "execution_count": 63,
     "metadata": {},
     "output_type": "execute_result"
    }
   ],
   "source": [
    "d = {\"Antara\":17,\"Aditya\":11}\n",
    "d.update({\"together_forever\":\"enternity_and_beyond\"})\n",
    "d"
   ]
  },
  {
   "cell_type": "markdown",
   "id": "570ebcc0",
   "metadata": {},
   "source": [
    "# set"
   ]
  },
  {
   "cell_type": "code",
   "execution_count": 65,
   "id": "6555c1f3",
   "metadata": {},
   "outputs": [],
   "source": [
    "# to add item in set"
   ]
  },
  {
   "cell_type": "code",
   "execution_count": 67,
   "id": "337d028c",
   "metadata": {},
   "outputs": [
    {
     "data": {
      "text/plain": [
       "{1, 2, 3, 4, 5, 6, 7, 8, 9, 'Aditya', 'Antara'}"
      ]
     },
     "execution_count": 67,
     "metadata": {},
     "output_type": "execute_result"
    }
   ],
   "source": [
    "s = {1,2,3,4,5,\"Antara\",6,7,8,\"Aditya\"}\n",
    "s.add(9)\n",
    "s"
   ]
  },
  {
   "cell_type": "code",
   "execution_count": 68,
   "id": "4ac066f9",
   "metadata": {},
   "outputs": [],
   "source": [
    "# to remove item from set"
   ]
  },
  {
   "cell_type": "code",
   "execution_count": 69,
   "id": "edcb0589",
   "metadata": {},
   "outputs": [
    {
     "data": {
      "text/plain": [
       "{1, 2, 4, 5, 6, 7, 8, 'Aditya', 'Antara'}"
      ]
     },
     "execution_count": 69,
     "metadata": {},
     "output_type": "execute_result"
    }
   ],
   "source": [
    "s = {1,2,3,4,5,\"Antara\",6,7,8,\"Aditya\"}\n",
    "s.remove(3)\n",
    "s"
   ]
  },
  {
   "cell_type": "code",
   "execution_count": 70,
   "id": "79cf164b",
   "metadata": {},
   "outputs": [],
   "source": [
    "# removes item | remove will throw error if item is not there, discard will not"
   ]
  },
  {
   "cell_type": "code",
   "execution_count": 72,
   "id": "9173bbf3",
   "metadata": {},
   "outputs": [
    {
     "data": {
      "text/plain": [
       "{1, 2, 3, 4, 6, 7, 8, 'Aditya', 'Antara'}"
      ]
     },
     "execution_count": 72,
     "metadata": {},
     "output_type": "execute_result"
    }
   ],
   "source": [
    "s = {1,2,3,4,5,\"Antara\",6,7,8,\"Aditya\"}\n",
    "s.discard(5)\n",
    "s"
   ]
  },
  {
   "cell_type": "code",
   "execution_count": 73,
   "id": "7fcceb1a",
   "metadata": {},
   "outputs": [],
   "source": [
    "# to remove random item since unordered"
   ]
  },
  {
   "cell_type": "code",
   "execution_count": 74,
   "id": "21f673c4",
   "metadata": {},
   "outputs": [
    {
     "data": {
      "text/plain": [
       "{2, 3, 4, 5, 6, 7, 8, 'Aditya', 'Antara'}"
      ]
     },
     "execution_count": 74,
     "metadata": {},
     "output_type": "execute_result"
    }
   ],
   "source": [
    "s = {1,2,3,4,5,\"Antara\",6,7,8,\"Aditya\"}\n",
    "s.pop()\n",
    "s"
   ]
  },
  {
   "cell_type": "code",
   "execution_count": 77,
   "id": "3b8510e2",
   "metadata": {},
   "outputs": [
    {
     "name": "stdout",
     "output_type": "stream",
     "text": [
      "before pop {544.2, 4332, 44, 44.66, 4433, 22, 2233, 93}\n",
      "after pop {4332, 44, 44.66, 4433, 22, 2233, 93}\n"
     ]
    }
   ],
   "source": [
    "s = {93,44,22,4332,4433,44.66,2233,544.2}\n",
    "print(\"before pop\",s)\n",
    "s.pop()\n",
    "print(\"after pop\",s)"
   ]
  },
  {
   "cell_type": "code",
   "execution_count": 78,
   "id": "21456739",
   "metadata": {},
   "outputs": [],
   "source": [
    "# return true if no common element"
   ]
  },
  {
   "cell_type": "code",
   "execution_count": 80,
   "id": "f1e92533",
   "metadata": {},
   "outputs": [
    {
     "data": {
      "text/plain": [
       "False"
      ]
     },
     "execution_count": 80,
     "metadata": {},
     "output_type": "execute_result"
    }
   ],
   "source": [
    "s = {1,2,3,4,5,\"Antara\",6,7,8,\"Aditya\"}\n",
    "s1 = {1,93,44,22,4332,4433,44.66,2233,544.2}\n",
    "s.isdisjoint(s1)"
   ]
  },
  {
   "cell_type": "code",
   "execution_count": 81,
   "id": "cc5264b6",
   "metadata": {},
   "outputs": [],
   "source": [
    "# return true if all element from another set is present in original set"
   ]
  },
  {
   "cell_type": "code",
   "execution_count": 83,
   "id": "3166f28b",
   "metadata": {},
   "outputs": [
    {
     "data": {
      "text/plain": [
       "False"
      ]
     },
     "execution_count": 83,
     "metadata": {},
     "output_type": "execute_result"
    }
   ],
   "source": [
    "s = {1,2,3,4,5,\"Antara\",6,7,8,\"Aditya\"}\n",
    "s1 = {1,93,44,22,4332,4433,44.66,2233,544.2}\n",
    "s.issubset(s1)"
   ]
  },
  {
   "cell_type": "code",
   "execution_count": 84,
   "id": "7ee902e0",
   "metadata": {},
   "outputs": [],
   "source": [
    "# return true is all element from original set present in another set"
   ]
  },
  {
   "cell_type": "code",
   "execution_count": 86,
   "id": "9df45682",
   "metadata": {},
   "outputs": [
    {
     "data": {
      "text/plain": [
       "True"
      ]
     },
     "execution_count": 86,
     "metadata": {},
     "output_type": "execute_result"
    }
   ],
   "source": [
    "s = {1,2,3,4,5,\"Antara\",6,7,8,\"Aditya\"}\n",
    "s1 = {1,2,3,4,5,\"Antara\",6,7,8,\"Aditya\"}\n",
    "s.issuperset(s1)"
   ]
  },
  {
   "cell_type": "code",
   "execution_count": 87,
   "id": "a82a5fb9",
   "metadata": {},
   "outputs": [],
   "source": [
    "# returns set containing items only in first set"
   ]
  },
  {
   "cell_type": "code",
   "execution_count": 97,
   "id": "68aca94a",
   "metadata": {},
   "outputs": [
    {
     "data": {
      "text/plain": [
       "{1, 2, 3, 4, 5, 6, 7, 8, 'Aditya', 'Antara'}"
      ]
     },
     "execution_count": 97,
     "metadata": {},
     "output_type": "execute_result"
    }
   ],
   "source": [
    "s = {1,2,3,4,5,\"Antara\",6,7,8,\"Aditya\"}\n",
    "s1 = {1,2,3,4,5,\"Antara\",6,7,8,\"Aditya\",222,32.44,32,3221,333444444444444444444444}\n",
    "s.difference(s1)\n",
    "s"
   ]
  },
  {
   "cell_type": "code",
   "execution_count": 89,
   "id": "af87309e",
   "metadata": {},
   "outputs": [],
   "source": [
    "# removes common element from first set"
   ]
  },
  {
   "cell_type": "code",
   "execution_count": 96,
   "id": "9ce9fa0b",
   "metadata": {},
   "outputs": [
    {
     "data": {
      "text/plain": [
       "{1,\n",
       " 2,\n",
       " 222,\n",
       " 3,\n",
       " 32,\n",
       " 32.44,\n",
       " 3221,\n",
       " 333444444444444444444444,\n",
       " 4,\n",
       " 5,\n",
       " 6,\n",
       " 7,\n",
       " 8,\n",
       " 'Aditya',\n",
       " 'Antara'}"
      ]
     },
     "execution_count": 96,
     "metadata": {},
     "output_type": "execute_result"
    }
   ],
   "source": [
    "s = {1,2,3,4,5,\"Antara\",6,7,8,\"Aditya\"}\n",
    "s1 = {1,2,3,4,5,\"Antara\",6,7,8,\"Aditya\",222,32.44,32,3221,333444444444444444444444}\n",
    "s.difference_update(s1)\n",
    "s1"
   ]
  },
  {
   "cell_type": "code",
   "execution_count": 92,
   "id": "073e62ba",
   "metadata": {},
   "outputs": [
    {
     "data": {
      "text/plain": [
       "{1,\n",
       " 2,\n",
       " 222,\n",
       " 3,\n",
       " 32,\n",
       " 32.44,\n",
       " 3221,\n",
       " 333444444444444444444444,\n",
       " 4,\n",
       " 5,\n",
       " 6,\n",
       " 7,\n",
       " 8,\n",
       " 'Aditya',\n",
       " 'Antara'}"
      ]
     },
     "execution_count": 92,
     "metadata": {},
     "output_type": "execute_result"
    }
   ],
   "source": [
    "s = {1,2,3,4,5,\"Antara\",6,7,8,\"Aditya\"}\n",
    "s1 = {1,2,3,4,5,\"Antara\",6,7,8,\"Aditya\",222,32.44,32,3221,333444444444444444444444}\n",
    "s.union(s1)"
   ]
  },
  {
   "cell_type": "code",
   "execution_count": 93,
   "id": "7a03c85e",
   "metadata": {},
   "outputs": [],
   "source": [
    "#adds another set without duplicate"
   ]
  },
  {
   "cell_type": "code",
   "execution_count": 95,
   "id": "032cc4a0",
   "metadata": {},
   "outputs": [
    {
     "data": {
      "text/plain": [
       "{1,\n",
       " 2,\n",
       " 222,\n",
       " 3,\n",
       " 32,\n",
       " 32.44,\n",
       " 3221,\n",
       " 333444444444444444444444,\n",
       " 4,\n",
       " 5,\n",
       " 6,\n",
       " 7,\n",
       " 8,\n",
       " 'Aditya',\n",
       " 'Antara'}"
      ]
     },
     "execution_count": 95,
     "metadata": {},
     "output_type": "execute_result"
    }
   ],
   "source": [
    "s = {1,2,3,4,5,\"Antara\",6,7,8,\"Aditya\"}\n",
    "s1 = {1,2,3,4,5,\"Antara\",6,7,8,\"Aditya\",222,32.44,32,3221,333444444444444444444444}\n",
    "s.update(s1)\n",
    "s"
   ]
  },
  {
   "cell_type": "markdown",
   "id": "e5f21d53",
   "metadata": {},
   "source": [
    "# tuple"
   ]
  },
  {
   "cell_type": "code",
   "execution_count": 98,
   "id": "9aaff3ff",
   "metadata": {},
   "outputs": [],
   "source": [
    "# to print occurance of item"
   ]
  },
  {
   "cell_type": "code",
   "execution_count": 99,
   "id": "73c2664c",
   "metadata": {},
   "outputs": [
    {
     "data": {
      "text/plain": [
       "2"
      ]
     },
     "execution_count": 99,
     "metadata": {},
     "output_type": "execute_result"
    }
   ],
   "source": [
    "t = (1,2,3,4,5,6,7,8,9,10,1)\n",
    "t.count(1)"
   ]
  },
  {
   "cell_type": "code",
   "execution_count": 100,
   "id": "e86431f1",
   "metadata": {},
   "outputs": [],
   "source": [
    "# to return index of item in array"
   ]
  },
  {
   "cell_type": "code",
   "execution_count": 101,
   "id": "3898e2bf",
   "metadata": {},
   "outputs": [
    {
     "data": {
      "text/plain": [
       "7"
      ]
     },
     "execution_count": 101,
     "metadata": {},
     "output_type": "execute_result"
    }
   ],
   "source": [
    "t = (33.23,44,54,223,2325,6,765,776)\n",
    "t.index(776)"
   ]
  },
  {
   "cell_type": "markdown",
   "id": "1181640b",
   "metadata": {},
   "source": [
    "# string"
   ]
  },
  {
   "cell_type": "code",
   "execution_count": 102,
   "id": "c95357d4",
   "metadata": {},
   "outputs": [],
   "source": [
    "# to split a string by using specified seperator"
   ]
  },
  {
   "cell_type": "code",
   "execution_count": 103,
   "id": "fd7c2df6",
   "metadata": {},
   "outputs": [
    {
     "data": {
      "text/plain": [
       "['Antara', 'and', 'Aditya', 'are', 'made', 'for', 'each', 'other']"
      ]
     },
     "execution_count": 103,
     "metadata": {},
     "output_type": "execute_result"
    }
   ],
   "source": [
    "s = \"Antara and Aditya are made for each other\"\n",
    "s.split(\" \")"
   ]
  },
  {
   "cell_type": "code",
   "execution_count": 104,
   "id": "43a16716",
   "metadata": {},
   "outputs": [],
   "source": [
    "# to convert string to list"
   ]
  },
  {
   "cell_type": "code",
   "execution_count": 106,
   "id": "bf83a1e1",
   "metadata": {},
   "outputs": [
    {
     "data": {
      "text/plain": [
       "['A',\n",
       " 'n',\n",
       " 't',\n",
       " 'a',\n",
       " 'r',\n",
       " 'a',\n",
       " ' ',\n",
       " 'a',\n",
       " 'n',\n",
       " 'd',\n",
       " ' ',\n",
       " 'A',\n",
       " 'd',\n",
       " 'i',\n",
       " 't',\n",
       " 'y',\n",
       " 'a',\n",
       " ' ',\n",
       " 'a',\n",
       " 'r',\n",
       " 'e',\n",
       " ' ',\n",
       " 'm',\n",
       " 'a',\n",
       " 'd',\n",
       " 'e',\n",
       " ' ',\n",
       " 'f',\n",
       " 'o',\n",
       " 'r',\n",
       " ' ',\n",
       " 'e',\n",
       " 'a',\n",
       " 'c',\n",
       " 'h',\n",
       " ' ',\n",
       " 'o',\n",
       " 't',\n",
       " 'h',\n",
       " 'e',\n",
       " 'r']"
      ]
     },
     "execution_count": 106,
     "metadata": {},
     "output_type": "execute_result"
    }
   ],
   "source": [
    "s = \"Antara and Aditya are made for each other\"\n",
    "l = list(s)\n",
    "l"
   ]
  },
  {
   "cell_type": "code",
   "execution_count": 107,
   "id": "76edb041",
   "metadata": {},
   "outputs": [],
   "source": [
    "# to count specific item from string"
   ]
  },
  {
   "cell_type": "code",
   "execution_count": 112,
   "id": "c36f7c3b",
   "metadata": {},
   "outputs": [
    {
     "data": {
      "text/plain": [
       "2"
      ]
     },
     "execution_count": 112,
     "metadata": {},
     "output_type": "execute_result"
    }
   ],
   "source": [
    "s = \"Antara and Aditya are made for each other\"\n",
    "s.count(\"A\")"
   ]
  },
  {
   "cell_type": "code",
   "execution_count": 114,
   "id": "e9dfba38",
   "metadata": {},
   "outputs": [],
   "source": [
    "# issnumeric print true if all character from string are numeric character"
   ]
  },
  {
   "cell_type": "code",
   "execution_count": 118,
   "id": "676a3715",
   "metadata": {},
   "outputs": [
    {
     "data": {
      "text/plain": [
       "True"
      ]
     },
     "execution_count": 118,
     "metadata": {},
     "output_type": "execute_result"
    }
   ],
   "source": [
    "s = \"123456\"\n",
    "s.isnumeric()"
   ]
  },
  {
   "cell_type": "code",
   "execution_count": 119,
   "id": "ef4ebaa0",
   "metadata": {},
   "outputs": [],
   "source": [
    "# returns true if characters present in string are alphabtes or return false"
   ]
  },
  {
   "cell_type": "code",
   "execution_count": 122,
   "id": "8fa83eb6",
   "metadata": {},
   "outputs": [
    {
     "data": {
      "text/plain": [
       "True"
      ]
     },
     "execution_count": 122,
     "metadata": {},
     "output_type": "execute_result"
    }
   ],
   "source": [
    "s = \"Antara\"\n",
    "s.isalpha()"
   ]
  },
  {
   "cell_type": "code",
   "execution_count": 132,
   "id": "30555617",
   "metadata": {},
   "outputs": [],
   "source": [
    "# upper turns lower character to upper"
   ]
  },
  {
   "cell_type": "code",
   "execution_count": 134,
   "id": "ef98245b",
   "metadata": {},
   "outputs": [
    {
     "name": "stdout",
     "output_type": "stream",
     "text": [
      "ANTARA AND ADITYA ARE MADE FOR EACH OTHER\n"
     ]
    }
   ],
   "source": [
    "s = \"Antara and Aditya are made for each other\"\n",
    "print(s.upper())\n"
   ]
  },
  {
   "cell_type": "code",
   "execution_count": 135,
   "id": "3420c5f2",
   "metadata": {},
   "outputs": [],
   "source": [
    "# lower can turns upper characters to lower"
   ]
  },
  {
   "cell_type": "code",
   "execution_count": 136,
   "id": "e2d54f0d",
   "metadata": {},
   "outputs": [
    {
     "name": "stdout",
     "output_type": "stream",
     "text": [
      "antara and aditya are made for each other\n"
     ]
    }
   ],
   "source": [
    "s = \"Antara and Aditya are made for each other\"\n",
    "print(s.lower())"
   ]
  },
  {
   "cell_type": "code",
   "execution_count": 141,
   "id": "32310101",
   "metadata": {},
   "outputs": [],
   "source": [
    "# islower is used to check given string is in lower character or not"
   ]
  },
  {
   "cell_type": "code",
   "execution_count": 140,
   "id": "a270e32f",
   "metadata": {},
   "outputs": [
    {
     "name": "stdout",
     "output_type": "stream",
     "text": [
      "False\n"
     ]
    }
   ],
   "source": [
    "s = 'Antara and Aditya are made for each other'\n",
    "print(s.islower())"
   ]
  },
  {
   "cell_type": "code",
   "execution_count": 142,
   "id": "4cd49211",
   "metadata": {},
   "outputs": [],
   "source": [
    "# isupper is used to check given string contains upper character or not"
   ]
  },
  {
   "cell_type": "code",
   "execution_count": 143,
   "id": "4026ab9f",
   "metadata": {},
   "outputs": [
    {
     "name": "stdout",
     "output_type": "stream",
     "text": [
      "False\n"
     ]
    }
   ],
   "source": [
    "s = 'Antara and Aditya are made for each other'\n",
    "print(s.isupper())"
   ]
  },
  {
   "cell_type": "code",
   "execution_count": 147,
   "id": "e694adab",
   "metadata": {},
   "outputs": [],
   "source": [
    "# isdigit used to print given string contain digit or not"
   ]
  },
  {
   "cell_type": "code",
   "execution_count": 148,
   "id": "1ff1015f",
   "metadata": {},
   "outputs": [
    {
     "name": "stdout",
     "output_type": "stream",
     "text": [
      "False\n"
     ]
    }
   ],
   "source": [
    "s = 'Antara and Aditya are made for each other'\n",
    "print(s.isdigit())"
   ]
  }
 ],
 "metadata": {
  "kernelspec": {
   "display_name": "Python 3 (ipykernel)",
   "language": "python",
   "name": "python3"
  },
  "language_info": {
   "codemirror_mode": {
    "name": "ipython",
    "version": 3
   },
   "file_extension": ".py",
   "mimetype": "text/x-python",
   "name": "python",
   "nbconvert_exporter": "python",
   "pygments_lexer": "ipython3",
   "version": "3.10.7"
  }
 },
 "nbformat": 4,
 "nbformat_minor": 5
}
